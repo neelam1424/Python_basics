{
 "cells": [
  {
   "cell_type": "markdown",
   "id": "916d724e",
   "metadata": {},
   "source": [
    "\n",
    "chai aur python\n",
    "this is core python learning"
   ]
  },
  {
   "cell_type": "code",
   "execution_count": 4,
   "id": "84f6eef8",
   "metadata": {},
   "outputs": [
    {
     "name": "stdout",
     "output_type": "stream",
     "text": [
      "chai aur code\n"
     ]
    }
   ],
   "source": [
    "print(\"chai aur code\")"
   ]
  },
  {
   "cell_type": "code",
   "execution_count": 3,
   "id": "148a81b5",
   "metadata": {},
   "outputs": [
    {
     "name": "stdout",
     "output_type": "stream",
     "text": [
      "0-1-2-3-4-5-6-"
     ]
    }
   ],
   "source": [
    "\n",
    "for i in range(7):\n",
    "    print(i, end=\"-\")"
   ]
  }
 ],
 "metadata": {
  "kernelspec": {
   "display_name": "Python 3.12 (tfenv)",
   "language": "python",
   "name": "tfenv"
  },
  "language_info": {
   "codemirror_mode": {
    "name": "ipython",
    "version": 3
   },
   "file_extension": ".py",
   "mimetype": "text/x-python",
   "name": "python",
   "nbconvert_exporter": "python",
   "pygments_lexer": "ipython3",
   "version": "3.12.11"
  }
 },
 "nbformat": 4,
 "nbformat_minor": 5
}
